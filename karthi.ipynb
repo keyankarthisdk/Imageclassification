{
 "cells": [
  {
   "cell_type": "code",
   "execution_count": null,
   "metadata": {},
   "outputs": [],
   "source": [
    "from os import environ, chdir\n",
    "\n",
    "from keras.preprocessing.image import ImageDataGenerator\n",
    "\n",
    "from keras import models, layers, optimizers, callbacks\n",
    "\n",
    "import tensorflow as tf\n",
    "\n",
    "import h5py\n",
    "\n",
    "environ['TF_CPP_MIN_LOG_LEVEL'] = '3'\n",
    "chdir(r'/home/administrator/Downloads')"
   ]
  },
  {
   "cell_type": "code",
   "execution_count": null,
   "metadata": {},
   "outputs": [],
   "source": [
    "# Setting Image and Data Generators\n",
    "train_idg = ImageDataGenerator(rescale=1. / 255,\n",
    "                               zoom_range=[1.0, 1.25],\n",
    "                               width_shift_range=0.1,\n",
    "                               height_shift_range=0.1,\n",
    "                               fill_mode='reflect')\n",
    "\n",
    "train_g = train_idg.flow_from_directory(directory=r'train1',\n",
    "                                        target_size=(100, 100),\n",
    "                                        class_mode='multiclass',\n",
    "                                        batch_size=108,\n",
    "                                        shuffle=True)\n",
    "\n",
    "valid_idg = ImageDataGenerator(rescale=1. / 255)\n",
    "\n",
    "valid_g = valid_idg.flow_from_directory(directory=r'valid1',\n",
    "                                        target_size=(100, 100),\n",
    "                                        class_mode='multiclass',\n",
    "                                        batch_size=50,\n",
    "                                        shuffle=True)"
   ]
  },
  {
   "cell_type": "code",
   "execution_count": null,
   "metadata": {},
   "outputs": [],
   "source": [
    "# CNN Architecture\n",
    "my_model = models.Sequential()\n",
    "my_model.add(layers.Conv2D(filters=16, kernel_size=(2,2), strides=(1, 1),\n",
    "                           input_shape=(100, 100, 3)))\n",
    "my_model.add(layers.Activation('relu'))\n",
    "my_model.add(layers.Conv2D(filters=16, kernel_size=(2, 2), strides=(1, 1)))\n",
    "my_model.add(layers.Activation('relu'))\n",
    "my_model.add(layers.MaxPooling2D(pool_size=(2, 2)))\n",
    "\n",
    "my_model.add(layers.Dropout(rate=0.4))\n",
    "\n",
    "my_model.add(layers.Conv2D(filters=16, kernel_size=(2, 2), strides=(1, 1)))\n",
    "my_model.add(layers.Activation('relu'))\n",
    "my_model.add(layers.Conv2D(filters=16, kernel_size=(2, 2), strides=(1, 1)))\n",
    "my_model.add(layers.Activation('relu'))\n",
    "my_model.add(layers.MaxPooling2D(pool_size=(2, 2)))\n",
    "\n",
    "my_model.add(layers.Dropout(rate=0.4))\n",
    "\n",
    "my_model.add(layers.Conv2D(filters=16, kernel_size=(2, 2), strides=(1, 1)))\n",
    "my_model.add(layers.Activation('relu'))\n",
    "my_model.add(layers.MaxPooling2D(pool_size=(2, 2)))\n",
    "my_model.add(layers.Conv2D(filters=16, kernel_size=(2, 2), strides=(1, 1)))\n",
    "my_model.add(layers.Activation('relu'))\n",
    "my_model.add(layers.MaxPooling2D(pool_size=(2, 2)))\n",
    "\n",
    "my_model.add(layers.Flatten())\n",
    "\n",
    "my_model.add(layers.Dropout(rate=0.4))\n",
    "\n",
    "my_model.add(layers.Dense(units=100))\n",
    "my_model.add(layers.Activation('relu'))\n",
    "\n",
    "my_model.add(layers.Dense(units=5))\n",
    "my_model.add(layers.Activation('softmax'))\n",
    "print(my_model.summary())"
   ]
  },
  {
   "cell_type": "code",
   "execution_count": null,
   "metadata": {},
   "outputs": [],
   "source": [
    "# Model Loss function and Optimizer method\n",
    "compile = my_model.compile(optimizer=optimizers.Adadelta(lr=0.15), loss='binary_crossentropy',\n",
    "                           metrics=['accuracy'])\n"
   ]
  },
  {
   "cell_type": "code",
   "execution_count": null,
   "metadata": {},
   "outputs": [],
   "source": [
    "# Settting Callbacks\n",
    "chdir(r'/home/administrator/Downloads')\n",
    "check_p = callbacks.ModelCheckpoint(filepath='animal_cnn_{val_acc:.2f}.h5',\n",
    "                                    monitor='val_acc', verbose=1,\n",
    "                                    save_best_only=True, save_weights_only=False)\n",
    "reduce_lr = callbacks.ReduceLROnPlateau(monitor='val_acc', factor=0.95, patience=3,\n",
    "                                        verbose=1, cooldown=2)\n",
    "callb_l = [check_p, reduce_lr]"
   ]
  },
  {
   "cell_type": "code",
   "execution_count": null,
   "metadata": {},
   "outputs": [],
   "source": [
    "# Training Options\n",
    "fit = my_model.fit_generator(generator=train_g, steps_per_epoch=22, epochs=100, verbose=1,\n",
    "                             callbacks=callb_l, validation_data=valid_g, validation_steps=4)"
   ]
  },
  {
   "cell_type": "code",
   "execution_count": null,
   "metadata": {},
   "outputs": [],
   "source": [
    "# Saving Model\n",
    "my_model.save(filepath=r'animal_cnn.h5', overwrite=True)\n"
   ]
  },
  {
   "cell_type": "code",
   "execution_count": null,
   "metadata": {},
   "outputs": [],
   "source": [
    "\n",
    "acc = history.history['acc']\n",
    "val_acc = history.history['val_acc']\n",
    "loss = history.history['loss']\n",
    "val_loss = history.history['val_loss']\n",
    "\n",
    "epochs= range(len(acc))\n",
    "\n",
    "plt.plot(epochs, acc, 'b', label='training acc')\n",
    "plt.plot(epochs, val_acc, 'r', label='validation loss')\n",
    "plt.title('training and validation accuracy')\n",
    "plt.legend()\n",
    "\n",
    "plt.figure()\n",
    "\n",
    "plt.plot(epochs, loss, 'b', label='training loss')\n",
    "plt.plot(epochs, val_loss, 'r', label='training loss')\n",
    "plt.title('training and validation loss')\n",
    "plt.legend()\n",
    "\n",
    "plt.show()\n",
    "\n"
   ]
  }
 ],
 "metadata": {
  "kernelspec": {
   "display_name": "Python 3",
   "language": "python",
   "name": "python3"
  },
  "language_info": {
   "codemirror_mode": {
    "name": "ipython",
    "version": 3
   },
   "file_extension": ".py",
   "mimetype": "text/x-python",
   "name": "python",
   "nbconvert_exporter": "python",
   "pygments_lexer": "ipython3",
   "version": "3.6.3"
  }
 },
 "nbformat": 4,
 "nbformat_minor": 2
}
